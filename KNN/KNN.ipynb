{
 "cells": [
  {
   "cell_type": "markdown",
   "metadata": {},
   "source": [
    "# David Brookes\n",
    "# April 2022"
   ]
  },
  {
   "cell_type": "markdown",
   "metadata": {},
   "source": [
    "# K Nearest Neighbour algorithm\n",
    "# Task achieved using:\n",
    "# 1. Simple python commands\n",
    "# 2. Library software"
   ]
  },
  {
   "cell_type": "code",
   "execution_count": 1,
   "metadata": {},
   "outputs": [],
   "source": [
    "import numpy as np\n",
    "\n",
    "import collections as colls\n",
    "\n",
    "def euclidian_distance(x1, x2):\n",
    "    return np.sqrt((np.sum(x1-x2)**2))\n",
    "\n",
    "class KNN:\n",
    "    def __init__(self, k=3):\n",
    "        self.k = k\n",
    "        \n",
    "    def fit(self, X, y): # Notice this is the same form as the scikit-learn function.\n",
    "        self.X_train = X\n",
    "        self.y_train = y\n",
    "    \n",
    "    def predict(self, X): # Notice this is the same form as the scikit-learn function.\n",
    "        predicted_labels = [self._predict(x) for x in X]\n",
    "        return np.array(predicted_labels)\n",
    "    \n",
    "    def _predict(self, x):\n",
    "        # Compute distances.\n",
    "        distances = [euclidian_distance(x, x_train) for x_train in self.X_train]\n",
    "        \n",
    "        # Get k nearest samples and labels.\n",
    "        k_indices = np.argsort(distances)[:self.k] # Sort in ascending order, and select the first k.\n",
    "        k_nearest_labels = [self.y_train[i] for i in k_indices]\n",
    "        \n",
    "        \n",
    "        # Take the majority vote i.e select the most common class label.\n",
    "        most_common = colls.Counter(k_nearest_labels).most_common(1)\n",
    "        return most_common[0][0]"
   ]
  }
 ],
 "metadata": {
  "kernelspec": {
   "display_name": "Python 3",
   "language": "python",
   "name": "python3"
  },
  "language_info": {
   "codemirror_mode": {
    "name": "ipython",
    "version": 3
   },
   "file_extension": ".py",
   "mimetype": "text/x-python",
   "name": "python",
   "nbconvert_exporter": "python",
   "pygments_lexer": "ipython3",
   "version": "3.8.5"
  }
 },
 "nbformat": 4,
 "nbformat_minor": 4
}
